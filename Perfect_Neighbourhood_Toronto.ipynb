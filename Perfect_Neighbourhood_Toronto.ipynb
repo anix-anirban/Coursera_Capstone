{
 "cells": [
  {
   "cell_type": "markdown",
   "metadata": {
    "slideshow": {
     "slide_type": "slide"
    }
   },
   "source": [
    "<h1 align = 'center'> Whether to accept the job or not? </h1>\n",
    "\n",
    "In today's world, good jobs are not common. Specifically, they are might be at a different location than where we live. It might be inconvenient to leave comfort or quality of life. But, life is a trade of. Can data science help us in meauring the inconvenience and help us decide on relocations?\n",
    "<p></p>\n",
    "This analysis demonstrates how data science can indeed help taking that decision.\n",
    "<p></p>\n",
    "This part of the analysis addresses the following:\n",
    " \n",
    "-  **A description of the problem and a discussion of the background**\n",
    "-  **A description of the data and how it will be used to solve the problem**\n",
    "    \n",
    "<h2> Problem statement</h2>\n",
    "\n",
    "The problem statement is to solve:\n",
    "\n",
    "-  <font color='blue'>*How might someone decide if a new place is worthy to relocate to?*</font>\n",
    "\n",
    "<h2> Background</h2>\n",
    "\n",
    "Suppose you live in west side of Toronto, Canada. Recently, you have got a better job offer on the other side of the city, that is, the east. You have a good life in the west within a lively community and all the amenities a metro city can offer.\n",
    "\n",
    "<p></p>\n",
    "\n",
    "Before you are ready to accept the job offer, you want to evaluate if you will have same level of quality of life in the east. If not, does it worth compromise your quality of life for the increased paycheck?\n",
    "\n",
    "Things to consider:\n",
    "\n",
    "-  Identify a few neighbourhoods which may be as good as the present location, that is, wast of Toronto\n",
    "-  Check the venues around those neighbourhhods and decide if those are as good as the west\n",
    "\n",
    "<h2> Data sources and their usage in this analysis </h2>\n",
    "\n",
    "To be able to do this analysis, the following data will be used:\n",
    "\n",
    "- Current location and future job location\n",
    "- Neighbourhoods of Toronto\n",
    "- Geocoded data\n",
    "- Venues around neighbourhoods from Four Square API\n",
    "\n",
    "The nature of these data are described below:\n",
    "\n",
    "**_A. Current location and future job location_**\n",
    "\n",
    "From the background, it is known that the user lives in the east and exploring locations in the east\n",
    "\n",
    "**_B. Neighbourhoods of Toronto_**\n",
    "\n",
    "Neighbourhoods of Toronto their details, like, postal code, borough name and neighbourhood names were obtained from this <a href = \"https://en.wikipedia.org/wiki/List_of_postal_codes_of_Canada:_M\"> Wikipedia page</a>. A sample of the data is given below."
   ]
  },
  {
   "cell_type": "code",
   "execution_count": 1,
   "metadata": {},
   "outputs": [
    {
     "data": {
      "text/html": [
       "<div>\n",
       "<style scoped>\n",
       "    .dataframe tbody tr th:only-of-type {\n",
       "        vertical-align: middle;\n",
       "    }\n",
       "\n",
       "    .dataframe tbody tr th {\n",
       "        vertical-align: top;\n",
       "    }\n",
       "\n",
       "    .dataframe thead th {\n",
       "        text-align: right;\n",
       "    }\n",
       "</style>\n",
       "<table border=\"1\" class=\"dataframe\">\n",
       "  <thead>\n",
       "    <tr style=\"text-align: right;\">\n",
       "      <th></th>\n",
       "      <th>Postal Code</th>\n",
       "      <th>Borough</th>\n",
       "      <th>Neighbourhood</th>\n",
       "    </tr>\n",
       "  </thead>\n",
       "  <tbody>\n",
       "    <tr>\n",
       "      <th>0</th>\n",
       "      <td>M1A</td>\n",
       "      <td>Not assigned</td>\n",
       "      <td>Not assigned</td>\n",
       "    </tr>\n",
       "    <tr>\n",
       "      <th>1</th>\n",
       "      <td>M2A</td>\n",
       "      <td>Not assigned</td>\n",
       "      <td>Not assigned</td>\n",
       "    </tr>\n",
       "    <tr>\n",
       "      <th>2</th>\n",
       "      <td>M3A</td>\n",
       "      <td>North York</td>\n",
       "      <td>Parkwoods</td>\n",
       "    </tr>\n",
       "    <tr>\n",
       "      <th>3</th>\n",
       "      <td>M4A</td>\n",
       "      <td>North York</td>\n",
       "      <td>Victoria Village</td>\n",
       "    </tr>\n",
       "    <tr>\n",
       "      <th>4</th>\n",
       "      <td>M5A</td>\n",
       "      <td>Downtown Toronto</td>\n",
       "      <td>Regent Park, Harbourfront</td>\n",
       "    </tr>\n",
       "  </tbody>\n",
       "</table>\n",
       "</div>"
      ],
      "text/plain": [
       "  Postal Code           Borough              Neighbourhood\n",
       "0         M1A      Not assigned               Not assigned\n",
       "1         M2A      Not assigned               Not assigned\n",
       "2         M3A        North York                  Parkwoods\n",
       "3         M4A        North York           Victoria Village\n",
       "4         M5A  Downtown Toronto  Regent Park, Harbourfront"
      ]
     },
     "execution_count": 1,
     "metadata": {},
     "output_type": "execute_result"
    }
   ],
   "source": [
    "import pandas as pd\n",
    "raw_data = pd.read_html(\"https://en.wikipedia.org/wiki/List_of_postal_codes_of_Canada:_M\")[0]\n",
    "raw_data.head()"
   ]
  },
  {
   "cell_type": "markdown",
   "metadata": {},
   "source": [
    "It can be noted that the data is not entirely clean, that is, some of the Boroughs and Neighbourhoods are missing from the data. Further analysis revealed the profile of the data."
   ]
  },
  {
   "cell_type": "code",
   "execution_count": 2,
   "metadata": {},
   "outputs": [
    {
     "data": {
      "text/html": [
       "<div>\n",
       "<style scoped>\n",
       "    .dataframe tbody tr th:only-of-type {\n",
       "        vertical-align: middle;\n",
       "    }\n",
       "\n",
       "    .dataframe tbody tr th {\n",
       "        vertical-align: top;\n",
       "    }\n",
       "\n",
       "    .dataframe thead th {\n",
       "        text-align: right;\n",
       "    }\n",
       "</style>\n",
       "<table border=\"1\" class=\"dataframe\">\n",
       "  <thead>\n",
       "    <tr style=\"text-align: right;\">\n",
       "      <th></th>\n",
       "      <th>Postal Code</th>\n",
       "      <th>Borough</th>\n",
       "      <th>Neighbourhood</th>\n",
       "    </tr>\n",
       "  </thead>\n",
       "  <tbody>\n",
       "    <tr>\n",
       "      <th>count</th>\n",
       "      <td>180</td>\n",
       "      <td>180</td>\n",
       "      <td>180</td>\n",
       "    </tr>\n",
       "    <tr>\n",
       "      <th>unique</th>\n",
       "      <td>180</td>\n",
       "      <td>11</td>\n",
       "      <td>100</td>\n",
       "    </tr>\n",
       "    <tr>\n",
       "      <th>top</th>\n",
       "      <td>M7Z</td>\n",
       "      <td>Not assigned</td>\n",
       "      <td>Not assigned</td>\n",
       "    </tr>\n",
       "    <tr>\n",
       "      <th>freq</th>\n",
       "      <td>1</td>\n",
       "      <td>77</td>\n",
       "      <td>77</td>\n",
       "    </tr>\n",
       "  </tbody>\n",
       "</table>\n",
       "</div>"
      ],
      "text/plain": [
       "       Postal Code       Borough Neighbourhood\n",
       "count          180           180           180\n",
       "unique         180            11           100\n",
       "top            M7Z  Not assigned  Not assigned\n",
       "freq             1            77            77"
      ]
     },
     "execution_count": 2,
     "metadata": {},
     "output_type": "execute_result"
    }
   ],
   "source": [
    "raw_data.describe(include = 'all')"
   ]
  },
  {
   "cell_type": "markdown",
   "metadata": {},
   "source": [
    "It can further be noted that there are 180 postal codes, 10 boroughs and 100 neighbourhoods in Toronto."
   ]
  },
  {
   "cell_type": "markdown",
   "metadata": {},
   "source": [
    "**_C. Geocoded data_**\n",
    "\n",
    "There are multiple sources of geocoding data, that is, latitude and longitude of various places. In this analysis, the Geegle Maps geocoding API will be used.\n",
    "\n",
    "**_D. Venues_**\n",
    "\n",
    "It will be important to identify possible neighbourhoods in the east which could be good enough and somewhat closer to the Toronto city center, that is, the Downtown Toronto. Major consideration will be the venues around those neighbourhoods, diversity of services and quality of the same. Four Square API will be used to source the venues and their characteristics."
   ]
  }
 ],
 "metadata": {
  "kernelspec": {
   "display_name": "Python 3",
   "language": "python",
   "name": "python3"
  },
  "language_info": {
   "codemirror_mode": {
    "name": "ipython",
    "version": 3
   },
   "file_extension": ".py",
   "mimetype": "text/x-python",
   "name": "python",
   "nbconvert_exporter": "python",
   "pygments_lexer": "ipython3",
   "version": "3.8.3"
  }
 },
 "nbformat": 4,
 "nbformat_minor": 4
}
